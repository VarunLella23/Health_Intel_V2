{
 "cells": [
  {
   "cell_type": "code",
   "execution_count": 8,
   "id": "03e7aae4",
   "metadata": {},
   "outputs": [],
   "source": [
    "import numpy as np\n",
    "import pandas as pd\n",
    "import matplotlib.pyplot as plt\n",
    "import seaborn as sns\n",
    "from sklearn.preprocessing import QuantileTransformer\n",
    "from sklearn.model_selection import train_test_split, RandomizedSearchCV, cross_val_score, KFold\n",
    "from sklearn.linear_model import LogisticRegression\n",
    "from sklearn.neighbors import KNeighborsClassifier\n",
    "from sklearn.tree import DecisionTreeClassifier\n",
    "from sklearn.ensemble import RandomForestClassifier, GradientBoostingClassifier\n",
    "from sklearn.naive_bayes import GaussianNB\n",
    "from sklearn.metrics import accuracy_score, classification_report, confusion_matrix, confusion_matrix, ConfusionMatrixDisplay\n",
    "from sklearn.ensemble import VotingClassifier\n",
    "from sklearn.svm import SVC\n",
    "from xgboost import XGBClassifier\n",
    "import warnings\n",
    "warnings.filterwarnings('ignore', category=FutureWarning)"
   ]
  },
  {
   "cell_type": "code",
   "execution_count": 9,
   "id": "cf22f8c9",
   "metadata": {},
   "outputs": [
    {
     "data": {
      "text/html": [
       "<div>\n",
       "<style scoped>\n",
       "    .dataframe tbody tr th:only-of-type {\n",
       "        vertical-align: middle;\n",
       "    }\n",
       "\n",
       "    .dataframe tbody tr th {\n",
       "        vertical-align: top;\n",
       "    }\n",
       "\n",
       "    .dataframe thead th {\n",
       "        text-align: right;\n",
       "    }\n",
       "</style>\n",
       "<table border=\"1\" class=\"dataframe\">\n",
       "  <thead>\n",
       "    <tr style=\"text-align: right;\">\n",
       "      <th></th>\n",
       "      <th>Age</th>\n",
       "      <th>Gender</th>\n",
       "      <th>BMI</th>\n",
       "      <th>AlcoholConsumption</th>\n",
       "      <th>Smoking</th>\n",
       "      <th>GeneticRisk</th>\n",
       "      <th>PhysicalActivity</th>\n",
       "      <th>Diabetes</th>\n",
       "      <th>Hypertension</th>\n",
       "      <th>LiverFunctionTest</th>\n",
       "      <th>Diagnosis</th>\n",
       "    </tr>\n",
       "  </thead>\n",
       "  <tbody>\n",
       "    <tr>\n",
       "      <th>0</th>\n",
       "      <td>58</td>\n",
       "      <td>0</td>\n",
       "      <td>35.857584</td>\n",
       "      <td>17.272828</td>\n",
       "      <td>0</td>\n",
       "      <td>1</td>\n",
       "      <td>0.658940</td>\n",
       "      <td>0</td>\n",
       "      <td>0</td>\n",
       "      <td>42.734240</td>\n",
       "      <td>1</td>\n",
       "    </tr>\n",
       "    <tr>\n",
       "      <th>1</th>\n",
       "      <td>71</td>\n",
       "      <td>1</td>\n",
       "      <td>30.732470</td>\n",
       "      <td>2.201266</td>\n",
       "      <td>0</td>\n",
       "      <td>1</td>\n",
       "      <td>1.670557</td>\n",
       "      <td>1</td>\n",
       "      <td>0</td>\n",
       "      <td>67.309822</td>\n",
       "      <td>1</td>\n",
       "    </tr>\n",
       "    <tr>\n",
       "      <th>2</th>\n",
       "      <td>48</td>\n",
       "      <td>0</td>\n",
       "      <td>19.971407</td>\n",
       "      <td>18.500944</td>\n",
       "      <td>0</td>\n",
       "      <td>0</td>\n",
       "      <td>9.928308</td>\n",
       "      <td>0</td>\n",
       "      <td>0</td>\n",
       "      <td>63.738956</td>\n",
       "      <td>0</td>\n",
       "    </tr>\n",
       "    <tr>\n",
       "      <th>3</th>\n",
       "      <td>34</td>\n",
       "      <td>1</td>\n",
       "      <td>16.615417</td>\n",
       "      <td>12.632870</td>\n",
       "      <td>0</td>\n",
       "      <td>0</td>\n",
       "      <td>5.630129</td>\n",
       "      <td>0</td>\n",
       "      <td>0</td>\n",
       "      <td>64.555873</td>\n",
       "      <td>1</td>\n",
       "    </tr>\n",
       "    <tr>\n",
       "      <th>4</th>\n",
       "      <td>62</td>\n",
       "      <td>1</td>\n",
       "      <td>16.065830</td>\n",
       "      <td>1.087815</td>\n",
       "      <td>0</td>\n",
       "      <td>1</td>\n",
       "      <td>3.566218</td>\n",
       "      <td>1</td>\n",
       "      <td>0</td>\n",
       "      <td>77.868689</td>\n",
       "      <td>1</td>\n",
       "    </tr>\n",
       "    <tr>\n",
       "      <th>...</th>\n",
       "      <td>...</td>\n",
       "      <td>...</td>\n",
       "      <td>...</td>\n",
       "      <td>...</td>\n",
       "      <td>...</td>\n",
       "      <td>...</td>\n",
       "      <td>...</td>\n",
       "      <td>...</td>\n",
       "      <td>...</td>\n",
       "      <td>...</td>\n",
       "      <td>...</td>\n",
       "    </tr>\n",
       "    <tr>\n",
       "      <th>1695</th>\n",
       "      <td>42</td>\n",
       "      <td>0</td>\n",
       "      <td>38.498295</td>\n",
       "      <td>14.384688</td>\n",
       "      <td>0</td>\n",
       "      <td>1</td>\n",
       "      <td>0.992289</td>\n",
       "      <td>0</td>\n",
       "      <td>0</td>\n",
       "      <td>97.933961</td>\n",
       "      <td>1</td>\n",
       "    </tr>\n",
       "    <tr>\n",
       "      <th>1696</th>\n",
       "      <td>40</td>\n",
       "      <td>0</td>\n",
       "      <td>27.600094</td>\n",
       "      <td>5.431009</td>\n",
       "      <td>0</td>\n",
       "      <td>0</td>\n",
       "      <td>8.390492</td>\n",
       "      <td>0</td>\n",
       "      <td>0</td>\n",
       "      <td>70.260528</td>\n",
       "      <td>1</td>\n",
       "    </tr>\n",
       "    <tr>\n",
       "      <th>1697</th>\n",
       "      <td>38</td>\n",
       "      <td>0</td>\n",
       "      <td>38.730017</td>\n",
       "      <td>6.324302</td>\n",
       "      <td>1</td>\n",
       "      <td>2</td>\n",
       "      <td>9.314222</td>\n",
       "      <td>0</td>\n",
       "      <td>1</td>\n",
       "      <td>56.053370</td>\n",
       "      <td>1</td>\n",
       "    </tr>\n",
       "    <tr>\n",
       "      <th>1698</th>\n",
       "      <td>67</td>\n",
       "      <td>0</td>\n",
       "      <td>35.820798</td>\n",
       "      <td>16.899417</td>\n",
       "      <td>0</td>\n",
       "      <td>2</td>\n",
       "      <td>3.224453</td>\n",
       "      <td>0</td>\n",
       "      <td>0</td>\n",
       "      <td>26.300875</td>\n",
       "      <td>1</td>\n",
       "    </tr>\n",
       "    <tr>\n",
       "      <th>1699</th>\n",
       "      <td>80</td>\n",
       "      <td>0</td>\n",
       "      <td>24.060783</td>\n",
       "      <td>9.526447</td>\n",
       "      <td>0</td>\n",
       "      <td>0</td>\n",
       "      <td>9.261426</td>\n",
       "      <td>0</td>\n",
       "      <td>1</td>\n",
       "      <td>73.572893</td>\n",
       "      <td>1</td>\n",
       "    </tr>\n",
       "  </tbody>\n",
       "</table>\n",
       "<p>1700 rows × 11 columns</p>\n",
       "</div>"
      ],
      "text/plain": [
       "      Age  Gender        BMI  AlcoholConsumption  Smoking  GeneticRisk  \\\n",
       "0      58       0  35.857584           17.272828        0            1   \n",
       "1      71       1  30.732470            2.201266        0            1   \n",
       "2      48       0  19.971407           18.500944        0            0   \n",
       "3      34       1  16.615417           12.632870        0            0   \n",
       "4      62       1  16.065830            1.087815        0            1   \n",
       "...   ...     ...        ...                 ...      ...          ...   \n",
       "1695   42       0  38.498295           14.384688        0            1   \n",
       "1696   40       0  27.600094            5.431009        0            0   \n",
       "1697   38       0  38.730017            6.324302        1            2   \n",
       "1698   67       0  35.820798           16.899417        0            2   \n",
       "1699   80       0  24.060783            9.526447        0            0   \n",
       "\n",
       "      PhysicalActivity  Diabetes  Hypertension  LiverFunctionTest  Diagnosis  \n",
       "0             0.658940         0             0          42.734240          1  \n",
       "1             1.670557         1             0          67.309822          1  \n",
       "2             9.928308         0             0          63.738956          0  \n",
       "3             5.630129         0             0          64.555873          1  \n",
       "4             3.566218         1             0          77.868689          1  \n",
       "...                ...       ...           ...                ...        ...  \n",
       "1695          0.992289         0             0          97.933961          1  \n",
       "1696          8.390492         0             0          70.260528          1  \n",
       "1697          9.314222         0             1          56.053370          1  \n",
       "1698          3.224453         0             0          26.300875          1  \n",
       "1699          9.261426         0             1          73.572893          1  \n",
       "\n",
       "[1700 rows x 11 columns]"
      ]
     },
     "execution_count": 9,
     "metadata": {},
     "output_type": "execute_result"
    }
   ],
   "source": [
    "df = pd.read_csv('../Datasets/liver.csv')\n",
    "df"
   ]
  },
  {
   "cell_type": "code",
   "execution_count": 10,
   "id": "873a5faa",
   "metadata": {},
   "outputs": [
    {
     "data": {
      "text/plain": [
       "(1700, 11)"
      ]
     },
     "execution_count": 10,
     "metadata": {},
     "output_type": "execute_result"
    }
   ],
   "source": [
    "df.shape"
   ]
  },
  {
   "cell_type": "code",
   "execution_count": 11,
   "id": "6c32aba9",
   "metadata": {},
   "outputs": [
    {
     "data": {
      "text/plain": [
       "<bound method NDFrame.describe of       Age  Gender        BMI  AlcoholConsumption  Smoking  GeneticRisk  \\\n",
       "0      58       0  35.857584           17.272828        0            1   \n",
       "1      71       1  30.732470            2.201266        0            1   \n",
       "2      48       0  19.971407           18.500944        0            0   \n",
       "3      34       1  16.615417           12.632870        0            0   \n",
       "4      62       1  16.065830            1.087815        0            1   \n",
       "...   ...     ...        ...                 ...      ...          ...   \n",
       "1695   42       0  38.498295           14.384688        0            1   \n",
       "1696   40       0  27.600094            5.431009        0            0   \n",
       "1697   38       0  38.730017            6.324302        1            2   \n",
       "1698   67       0  35.820798           16.899417        0            2   \n",
       "1699   80       0  24.060783            9.526447        0            0   \n",
       "\n",
       "      PhysicalActivity  Diabetes  Hypertension  LiverFunctionTest  Diagnosis  \n",
       "0             0.658940         0             0          42.734240          1  \n",
       "1             1.670557         1             0          67.309822          1  \n",
       "2             9.928308         0             0          63.738956          0  \n",
       "3             5.630129         0             0          64.555873          1  \n",
       "4             3.566218         1             0          77.868689          1  \n",
       "...                ...       ...           ...                ...        ...  \n",
       "1695          0.992289         0             0          97.933961          1  \n",
       "1696          8.390492         0             0          70.260528          1  \n",
       "1697          9.314222         0             1          56.053370          1  \n",
       "1698          3.224453         0             0          26.300875          1  \n",
       "1699          9.261426         0             1          73.572893          1  \n",
       "\n",
       "[1700 rows x 11 columns]>"
      ]
     },
     "execution_count": 11,
     "metadata": {},
     "output_type": "execute_result"
    }
   ],
   "source": [
    "df.describe"
   ]
  },
  {
   "cell_type": "code",
   "execution_count": 13,
   "id": "3cf9aa0e",
   "metadata": {},
   "outputs": [
    {
     "data": {
      "text/plain": [
       "Age                   0\n",
       "Gender                0\n",
       "BMI                   0\n",
       "AlcoholConsumption    0\n",
       "Smoking               0\n",
       "GeneticRisk           0\n",
       "PhysicalActivity      0\n",
       "Diabetes              0\n",
       "Hypertension          0\n",
       "LiverFunctionTest     0\n",
       "Diagnosis             0\n",
       "dtype: int64"
      ]
     },
     "execution_count": 13,
     "metadata": {},
     "output_type": "execute_result"
    }
   ],
   "source": [
    "df.isnull().sum()\n"
   ]
  },
  {
   "cell_type": "code",
   "execution_count": 26,
   "id": "b69be7a3",
   "metadata": {},
   "outputs": [
    {
     "name": "stdout",
     "output_type": "stream",
     "text": [
      "Age                     int64\n",
      "Gender                  int64\n",
      "BMI                   float64\n",
      "AlcoholConsumption    float64\n",
      "Smoking                 int64\n",
      "GeneticRisk             int64\n",
      "PhysicalActivity      float64\n",
      "Diabetes                int64\n",
      "Hypertension            int64\n",
      "LiverFunctionTest     float64\n",
      "dtype: object\n"
     ]
    }
   ],
   "source": [
    "print(X_train.dtypes)\n"
   ]
  },
  {
   "cell_type": "code",
   "execution_count": null,
   "id": "dace383b",
   "metadata": {},
   "outputs": [
    {
     "name": "stdout",
     "output_type": "stream",
     "text": [
      "Accuracy: 1.0\n",
      "              precision    recall  f1-score   support\n",
      "\n",
      "         1.0       1.00      1.00      1.00       188\n",
      "\n",
      "    accuracy                           1.00       188\n",
      "   macro avg       1.00      1.00      1.00       188\n",
      "weighted avg       1.00      1.00      1.00       188\n",
      "\n"
     ]
    }
   ],
   "source": [
    "\n",
    "df['Diagnosis'] = df['Diagnosis'].map({1: 1, 2: 0})  \n",
    "\n",
    "X = X.loc[y.notna()]\n",
    "y = y.dropna()\n",
    "\n",
    "\n",
    "X_train, X_test, y_train, y_test = train_test_split(X, y, test_size=0.2, random_state=42)\n",
    "\n",
    "rf_model = RandomForestClassifier(n_estimators=100, random_state=42)\n",
    "rf_model.fit(X_train, y_train)\n",
    "\n",
    "y_pred = rf_model.predict(X_test)\n",
    "print(\"Accuracy:\", accuracy_score(y_test, y_pred))\n",
    "print(classification_report(y_test, y_pred))\n"
   ]
  },
  {
   "cell_type": "code",
   "execution_count": 33,
   "id": "3d662264",
   "metadata": {},
   "outputs": [
    {
     "data": {
      "text/plain": [
       "['liver.pkl']"
      ]
     },
     "execution_count": 33,
     "metadata": {},
     "output_type": "execute_result"
    }
   ],
   "source": [
    "import joblib\n",
    "\n",
    "joblib.dump(rf_model, 'liver.pkl')"
   ]
  }
 ],
 "metadata": {
  "kernelspec": {
   "display_name": "env",
   "language": "python",
   "name": "python3"
  },
  "language_info": {
   "codemirror_mode": {
    "name": "ipython",
    "version": 3
   },
   "file_extension": ".py",
   "mimetype": "text/x-python",
   "name": "python",
   "nbconvert_exporter": "python",
   "pygments_lexer": "ipython3",
   "version": "3.13.0"
  }
 },
 "nbformat": 4,
 "nbformat_minor": 5
}
